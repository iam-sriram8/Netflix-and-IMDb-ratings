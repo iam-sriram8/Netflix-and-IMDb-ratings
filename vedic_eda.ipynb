{
  "nbformat": 4,
  "nbformat_minor": 5,
  "metadata": {
    "kernelspec": {
      "display_name": "Python 3",
      "language": "python",
      "name": "python3"
    },
    "language_info": {
      "codemirror_mode": {
        "name": "ipython",
        "version": 3
      },
      "file_extension": ".py",
      "mimetype": "text/x-python",
      "name": "python",
      "nbconvert_exporter": "python",
      "pygments_lexer": "ipython3",
      "version": "3.7.10"
    },
    "papermill": {
      "default_parameters": {},
      "duration": 11.822273,
      "end_time": "2021-08-26T13:33:34.510838",
      "environment_variables": {},
      "exception": null,
      "input_path": "__notebook__.ipynb",
      "output_path": "__notebook__.ipynb",
      "parameters": {},
      "start_time": "2021-08-26T13:33:22.688565",
      "version": "2.3.3"
    },
    "colab": {
      "name": "vedic-eda.ipynb",
      "provenance": [],
      "include_colab_link": true
    }
  },
  "cells": [
    {
      "cell_type": "markdown",
      "metadata": {
        "id": "view-in-github",
        "colab_type": "text"
      },
      "source": [
        "<a href=\"https://colab.research.google.com/github/iam-sriram8/Netflix-and-IMDb-ratings/blob/main/vedic_eda.ipynb\" target=\"_parent\"><img src=\"https://colab.research.google.com/assets/colab-badge.svg\" alt=\"Open In Colab\"/></a>"
      ]
    },
    {
      "cell_type": "code",
      "metadata": {
        "_cell_guid": "b1076dfc-b9ad-4769-8c92-a6c4dae69d19",
        "_uuid": "8f2839f25d086af736a60e9eeb907d3b93b6e0e5",
        "execution": {
          "iopub.execute_input": "2021-08-26T13:33:29.816052Z",
          "iopub.status.busy": "2021-08-26T13:33:29.815427Z",
          "iopub.status.idle": "2021-08-26T13:33:29.827180Z",
          "shell.execute_reply": "2021-08-26T13:33:29.826481Z",
          "shell.execute_reply.started": "2021-08-26T12:59:28.542159Z"
        },
        "papermill": {
          "duration": 0.038653,
          "end_time": "2021-08-26T13:33:29.827335",
          "exception": false,
          "start_time": "2021-08-26T13:33:29.788682",
          "status": "completed"
        },
        "tags": [],
        "id": "907298bf",
        "outputId": "622830df-bd4f-43b0-fe68-9de4b7c1a2c0"
      },
      "source": [
        "# This Python 3 environment comes with many helpful analytics libraries installed\n",
        "# It is defined by the kaggle/python Docker image: https://github.com/kaggle/docker-python\n",
        "# For example, here's several helpful packages to load\n",
        "\n",
        "import numpy as np # linear algebra\n",
        "import pandas as pd # data processing, CSV file I/O (e.g. pd.read_csv)\n",
        "\n",
        "# Input data files are available in the read-only \"../input/\" directory\n",
        "# For example, running this (by clicking run or pressing Shift+Enter) will list all files under the input directory\n",
        "\n",
        "import os\n",
        "for dirname, _, filenames in os.walk('/kaggle/input'):\n",
        "    for filename in filenames:\n",
        "        print(os.path.join(dirname, filename))\n",
        "\n",
        "# You can write up to 20GB to the current directory (/kaggle/working/) that gets preserved as output when you create a version using \"Save & Run All\" \n",
        "# You can also write temporary files to /kaggle/temp/, but they won't be saved outside of the current session"
      ],
      "id": "907298bf",
      "execution_count": null,
      "outputs": [
        {
          "name": "stdout",
          "output_type": "stream",
          "text": [
            "/kaggle/input/project8/NetflixOriginals.csv\n"
          ]
        }
      ]
    },
    {
      "cell_type": "code",
      "metadata": {
        "execution": {
          "iopub.execute_input": "2021-08-26T13:33:29.864306Z",
          "iopub.status.busy": "2021-08-26T13:33:29.863740Z",
          "iopub.status.idle": "2021-08-26T13:33:30.838322Z",
          "shell.execute_reply": "2021-08-26T13:33:30.837809Z",
          "shell.execute_reply.started": "2021-08-26T13:24:35.246937Z"
        },
        "papermill": {
          "duration": 0.99417,
          "end_time": "2021-08-26T13:33:30.838467",
          "exception": false,
          "start_time": "2021-08-26T13:33:29.844297",
          "status": "completed"
        },
        "tags": [],
        "id": "883b9b8b"
      },
      "source": [
        "import seaborn as sns\n",
        "import scipy.stats"
      ],
      "id": "883b9b8b",
      "execution_count": null,
      "outputs": []
    },
    {
      "cell_type": "code",
      "metadata": {
        "execution": {
          "iopub.execute_input": "2021-08-26T13:33:30.876449Z",
          "iopub.status.busy": "2021-08-26T13:33:30.875836Z",
          "iopub.status.idle": "2021-08-26T13:33:30.912795Z",
          "shell.execute_reply": "2021-08-26T13:33:30.912323Z",
          "shell.execute_reply.started": "2021-08-26T13:01:42.879445Z"
        },
        "papermill": {
          "duration": 0.057749,
          "end_time": "2021-08-26T13:33:30.912933",
          "exception": false,
          "start_time": "2021-08-26T13:33:30.855184",
          "status": "completed"
        },
        "tags": [],
        "id": "6b326b24",
        "outputId": "70787fd2-79d6-474b-eb2c-9ab3e76bbc14"
      },
      "source": [
        "nf = pd.read_csv(\"../input/project8/NetflixOriginals.csv\")\n",
        "nf.head()"
      ],
      "id": "6b326b24",
      "execution_count": null,
      "outputs": [
        {
          "data": {
            "text/html": [
              "<div>\n",
              "<style scoped>\n",
              "    .dataframe tbody tr th:only-of-type {\n",
              "        vertical-align: middle;\n",
              "    }\n",
              "\n",
              "    .dataframe tbody tr th {\n",
              "        vertical-align: top;\n",
              "    }\n",
              "\n",
              "    .dataframe thead th {\n",
              "        text-align: right;\n",
              "    }\n",
              "</style>\n",
              "<table border=\"1\" class=\"dataframe\">\n",
              "  <thead>\n",
              "    <tr style=\"text-align: right;\">\n",
              "      <th></th>\n",
              "      <th>Title</th>\n",
              "      <th>Genre</th>\n",
              "      <th>Premiere</th>\n",
              "      <th>Runtime</th>\n",
              "      <th>IMDB Score</th>\n",
              "      <th>Language</th>\n",
              "    </tr>\n",
              "  </thead>\n",
              "  <tbody>\n",
              "    <tr>\n",
              "      <th>0</th>\n",
              "      <td>Enter the Anime</td>\n",
              "      <td>Documentary</td>\n",
              "      <td>August 5, 2019</td>\n",
              "      <td>58</td>\n",
              "      <td>2.5</td>\n",
              "      <td>English/Japanese</td>\n",
              "    </tr>\n",
              "    <tr>\n",
              "      <th>1</th>\n",
              "      <td>Dark Forces</td>\n",
              "      <td>Thriller</td>\n",
              "      <td>August 21, 2020</td>\n",
              "      <td>81</td>\n",
              "      <td>2.6</td>\n",
              "      <td>Spanish</td>\n",
              "    </tr>\n",
              "    <tr>\n",
              "      <th>2</th>\n",
              "      <td>The App</td>\n",
              "      <td>Science fiction/Drama</td>\n",
              "      <td>December 26, 2019</td>\n",
              "      <td>79</td>\n",
              "      <td>2.6</td>\n",
              "      <td>Italian</td>\n",
              "    </tr>\n",
              "    <tr>\n",
              "      <th>3</th>\n",
              "      <td>The Open House</td>\n",
              "      <td>Horror thriller</td>\n",
              "      <td>January 19, 2018</td>\n",
              "      <td>94</td>\n",
              "      <td>3.2</td>\n",
              "      <td>English</td>\n",
              "    </tr>\n",
              "    <tr>\n",
              "      <th>4</th>\n",
              "      <td>Kaali Khuhi</td>\n",
              "      <td>Mystery</td>\n",
              "      <td>October 30, 2020</td>\n",
              "      <td>90</td>\n",
              "      <td>3.4</td>\n",
              "      <td>Hindi</td>\n",
              "    </tr>\n",
              "  </tbody>\n",
              "</table>\n",
              "</div>"
            ],
            "text/plain": [
              "             Title                  Genre           Premiere  Runtime  \\\n",
              "0  Enter the Anime            Documentary     August 5, 2019       58   \n",
              "1      Dark Forces               Thriller    August 21, 2020       81   \n",
              "2          The App  Science fiction/Drama  December 26, 2019       79   \n",
              "3   The Open House        Horror thriller   January 19, 2018       94   \n",
              "4      Kaali Khuhi                Mystery   October 30, 2020       90   \n",
              "\n",
              "   IMDB Score          Language  \n",
              "0         2.5  English/Japanese  \n",
              "1         2.6           Spanish  \n",
              "2         2.6           Italian  \n",
              "3         3.2           English  \n",
              "4         3.4             Hindi  "
            ]
          },
          "execution_count": 3,
          "metadata": {},
          "output_type": "execute_result"
        }
      ]
    },
    {
      "cell_type": "code",
      "metadata": {
        "execution": {
          "iopub.execute_input": "2021-08-26T13:33:30.965151Z",
          "iopub.status.busy": "2021-08-26T13:33:30.955439Z",
          "iopub.status.idle": "2021-08-26T13:33:30.970784Z",
          "shell.execute_reply": "2021-08-26T13:33:30.970268Z",
          "shell.execute_reply.started": "2021-08-26T13:02:07.182038Z"
        },
        "papermill": {
          "duration": 0.041041,
          "end_time": "2021-08-26T13:33:30.970918",
          "exception": false,
          "start_time": "2021-08-26T13:33:30.929877",
          "status": "completed"
        },
        "tags": [],
        "id": "1b292fdf",
        "outputId": "0fcef265-fd21-4b4a-f6b6-c76b09a2ab5e"
      },
      "source": [
        "nf.info()"
      ],
      "id": "1b292fdf",
      "execution_count": null,
      "outputs": [
        {
          "name": "stdout",
          "output_type": "stream",
          "text": [
            "<class 'pandas.core.frame.DataFrame'>\n",
            "RangeIndex: 584 entries, 0 to 583\n",
            "Data columns (total 6 columns):\n",
            " #   Column      Non-Null Count  Dtype  \n",
            "---  ------      --------------  -----  \n",
            " 0   Title       584 non-null    object \n",
            " 1   Genre       584 non-null    object \n",
            " 2   Premiere    584 non-null    object \n",
            " 3   Runtime     584 non-null    int64  \n",
            " 4   IMDB Score  584 non-null    float64\n",
            " 5   Language    584 non-null    object \n",
            "dtypes: float64(1), int64(1), object(4)\n",
            "memory usage: 27.5+ KB\n"
          ]
        }
      ]
    },
    {
      "cell_type": "code",
      "metadata": {
        "execution": {
          "iopub.execute_input": "2021-08-26T13:33:31.012249Z",
          "iopub.status.busy": "2021-08-26T13:33:31.011637Z",
          "iopub.status.idle": "2021-08-26T13:33:31.425130Z",
          "shell.execute_reply": "2021-08-26T13:33:31.424657Z",
          "shell.execute_reply.started": "2021-08-26T13:02:59.553534Z"
        },
        "papermill": {
          "duration": 0.4341,
          "end_time": "2021-08-26T13:33:31.425269",
          "exception": false,
          "start_time": "2021-08-26T13:33:30.991169",
          "status": "completed"
        },
        "tags": [],
        "id": "08681491",
        "outputId": "a85ab7a4-33ca-43be-d04f-8a9216caeefe"
      },
      "source": [
        "sns.histplot(data=nf, x=\"IMDB Score\", kde=True).set_title('IMDB Score Distribution')"
      ],
      "id": "08681491",
      "execution_count": null,
      "outputs": [
        {
          "data": {
            "text/plain": [
              "Text(0.5, 1.0, 'IMDB Score Distribution')"
            ]
          },
          "execution_count": 5,
          "metadata": {},
          "output_type": "execute_result"
        },
        {
          "data": {
            "image/png": "[encoded data removed]",
            "text/plain": [
              "<Figure size 432x288 with 1 Axes>"
            ]
          },
          "metadata": {
            "needs_background": "light"
          },
          "output_type": "display_data"
        }
      ]
    },
    {
      "cell_type": "code",
      "metadata": {
        "execution": {
          "iopub.execute_input": "2021-08-26T13:33:31.468457Z",
          "iopub.status.busy": "2021-08-26T13:33:31.467818Z",
          "iopub.status.idle": "2021-08-26T13:33:31.471301Z",
          "shell.execute_reply": "2021-08-26T13:33:31.471740Z",
          "shell.execute_reply.started": "2021-08-26T13:05:03.993911Z"
        },
        "papermill": {
          "duration": 0.028319,
          "end_time": "2021-08-26T13:33:31.471905",
          "exception": false,
          "start_time": "2021-08-26T13:33:31.443586",
          "status": "completed"
        },
        "tags": [],
        "id": "005a780f",
        "outputId": "f07a948b-21a8-4b4b-ac36-dd2739e25983"
      },
      "source": [
        "print(nf.Genre.nunique())\n",
        "nf.Genre.unique()"
      ],
      "id": "005a780f",
      "execution_count": null,
      "outputs": [
        {
          "name": "stdout",
          "output_type": "stream",
          "text": [
            "115\n"
          ]
        },
        {
          "data": {
            "text/plain": [
              "array(['Documentary', 'Thriller', 'Science fiction/Drama',\n",
              "       'Horror thriller', 'Mystery', 'Action', 'Comedy',\n",
              "       'Heist film/Thriller', 'Musical/Western/Fantasy', 'Drama',\n",
              "       'Romantic comedy', 'Action comedy', 'Horror anthology',\n",
              "       'Political thriller', 'Superhero-Comedy', 'Horror',\n",
              "       'Romance drama', 'Anime / Short', 'Superhero', 'Heist', 'Western',\n",
              "       'Animation/Superhero', 'Family film', 'Action-thriller',\n",
              "       'Teen comedy-drama', 'Romantic drama', 'Animation',\n",
              "       'Aftershow / Interview', 'Christmas musical',\n",
              "       'Science fiction adventure', 'Science fiction', 'Variety show',\n",
              "       'Comedy-drama', 'Comedy/Fantasy/Family', 'Supernatural drama',\n",
              "       'Action/Comedy', 'Action/Science fiction',\n",
              "       'Romantic teenage drama', 'Comedy / Musical', 'Musical',\n",
              "       'Science fiction/Mystery', 'Crime drama',\n",
              "       'Psychological thriller drama', 'Adventure/Comedy', 'Black comedy',\n",
              "       'Romance', 'Horror comedy', 'Christian musical',\n",
              "       'Romantic teen drama', 'Family', 'Dark comedy', 'Comedy horror',\n",
              "       'Psychological thriller', 'Biopic', 'Science fiction/Thriller',\n",
              "       'Mockumentary', 'Satire', 'One-man show', 'Romantic comedy-drama',\n",
              "       'Comedy/Horror', 'Fantasy', 'Sports-drama', 'Zombie/Heist',\n",
              "       'Psychological horror', 'Sports film', 'Comedy mystery',\n",
              "       'Romantic thriller', 'Christmas comedy', 'War-Comedy',\n",
              "       'Romantic comedy/Holiday', 'Adventure-romance', 'Adventure',\n",
              "       'Horror-thriller', 'Dance comedy', 'Stop Motion',\n",
              "       'Horror/Crime drama', 'Urban fantasy', 'Drama/Horror',\n",
              "       'Family/Comedy-drama', 'War', 'Crime thriller',\n",
              "       'Science fiction/Action', 'Teen comedy horror', 'Concert Film',\n",
              "       'Musical comedy', 'Animation/Musical/Adventure',\n",
              "       'Animation / Musicial', 'Animation/Comedy/Adventure',\n",
              "       'Action thriller', 'Anime/Science fiction', 'Animation / Short',\n",
              "       'War drama', 'Family/Christmas musical',\n",
              "       'Science fiction thriller', 'Drama / Short',\n",
              "       'Hidden-camera prank comedy', 'Spy thriller', 'Anime/Fantasy',\n",
              "       'Animated musical comedy', 'Variety Show', 'Superhero/Action',\n",
              "       'Biographical/Comedy', 'Historical-epic', 'Animation / Comedy',\n",
              "       'Christmas/Fantasy/Adventure/Comedy', 'Mentalism special',\n",
              "       'Drama-Comedy', 'Coming-of-age comedy-drama', 'Historical drama',\n",
              "       'Making-of', 'Action-adventure', 'Animation / Science Fiction',\n",
              "       'Anthology/Dark comedy', 'Musical / Short',\n",
              "       'Animation/Christmas/Comedy/Adventure'], dtype=object)"
            ]
          },
          "execution_count": 6,
          "metadata": {},
          "output_type": "execute_result"
        }
      ]
    },
    {
      "cell_type": "code",
      "metadata": {
        "execution": {
          "iopub.execute_input": "2021-08-26T13:33:31.515235Z",
          "iopub.status.busy": "2021-08-26T13:33:31.514635Z",
          "iopub.status.idle": "2021-08-26T13:33:31.520791Z",
          "shell.execute_reply": "2021-08-26T13:33:31.520356Z",
          "shell.execute_reply.started": "2021-08-26T13:06:37.873852Z"
        },
        "papermill": {
          "duration": 0.030521,
          "end_time": "2021-08-26T13:33:31.520922",
          "exception": false,
          "start_time": "2021-08-26T13:33:31.490401",
          "status": "completed"
        },
        "tags": [],
        "id": "672eb56f",
        "outputId": "539cc6e9-596d-42f7-cb17-e6cd2bf56201"
      },
      "source": [
        "nf[~nf.Genre.str.contains('/')].Genre.nunique()"
      ],
      "id": "672eb56f",
      "execution_count": null,
      "outputs": [
        {
          "data": {
            "text/plain": [
              "79"
            ]
          },
          "execution_count": 7,
          "metadata": {},
          "output_type": "execute_result"
        }
      ]
    },
    {
      "cell_type": "code",
      "metadata": {
        "execution": {
          "iopub.execute_input": "2021-08-26T13:33:31.564693Z",
          "iopub.status.busy": "2021-08-26T13:33:31.563845Z",
          "iopub.status.idle": "2021-08-26T13:33:31.569738Z",
          "shell.execute_reply": "2021-08-26T13:33:31.569099Z",
          "shell.execute_reply.started": "2021-08-26T13:06:50.983502Z"
        },
        "papermill": {
          "duration": 0.0304,
          "end_time": "2021-08-26T13:33:31.569920",
          "exception": false,
          "start_time": "2021-08-26T13:33:31.539520",
          "status": "completed"
        },
        "tags": [],
        "id": "fbf873d6",
        "outputId": "4f052dea-c605-4a0d-ca0f-73c03a16f945"
      },
      "source": [
        "print(nf.Language.nunique())\n",
        "nf.Language.unique()"
      ],
      "id": "fbf873d6",
      "execution_count": null,
      "outputs": [
        {
          "name": "stdout",
          "output_type": "stream",
          "text": [
            "38\n"
          ]
        },
        {
          "data": {
            "text/plain": [
              "array(['English/Japanese', 'Spanish', 'Italian', 'English', 'Hindi',\n",
              "       'Turkish', 'Korean', 'Indonesian', 'Malay', 'Dutch', 'French',\n",
              "       'English/Spanish', 'Portuguese', 'Filipino', 'German', 'Polish',\n",
              "       'Norwegian', 'Marathi', 'Thai', 'Swedish', 'Japanese',\n",
              "       'Spanish/Basque', 'Spanish/Catalan', 'English/Swedish',\n",
              "       'English/Taiwanese/Mandarin', 'Thia/English', 'English/Mandarin',\n",
              "       'Georgian', 'Bengali', 'Khmer/English/French', 'English/Hindi',\n",
              "       'Tamil', 'Spanish/English', 'English/Korean', 'English/Arabic',\n",
              "       'English/Russian', 'English/Akan', 'English/Ukranian/Russian'],\n",
              "      dtype=object)"
            ]
          },
          "execution_count": 8,
          "metadata": {},
          "output_type": "execute_result"
        }
      ]
    },
    {
      "cell_type": "code",
      "metadata": {
        "execution": {
          "iopub.execute_input": "2021-08-26T13:33:31.611877Z",
          "iopub.status.busy": "2021-08-26T13:33:31.611323Z",
          "iopub.status.idle": "2021-08-26T13:33:31.618079Z",
          "shell.execute_reply": "2021-08-26T13:33:31.618559Z",
          "shell.execute_reply.started": "2021-08-26T13:07:14.393932Z"
        },
        "papermill": {
          "duration": 0.029198,
          "end_time": "2021-08-26T13:33:31.618717",
          "exception": false,
          "start_time": "2021-08-26T13:33:31.589519",
          "status": "completed"
        },
        "tags": [],
        "id": "22dde78b",
        "outputId": "8f6470fb-2815-4031-86da-b7f5ada70ffa"
      },
      "source": [
        "nf[~nf.Language.str.contains('/')].Language.nunique()"
      ],
      "id": "22dde78b",
      "execution_count": null,
      "outputs": [
        {
          "data": {
            "text/plain": [
              "22"
            ]
          },
          "execution_count": 9,
          "metadata": {},
          "output_type": "execute_result"
        }
      ]
    },
    {
      "cell_type": "markdown",
      "metadata": {
        "papermill": {
          "duration": 0.019153,
          "end_time": "2021-08-26T13:33:31.657259",
          "exception": false,
          "start_time": "2021-08-26T13:33:31.638106",
          "status": "completed"
        },
        "tags": [],
        "id": "2bf2cbae"
      },
      "source": [
        "Data Pre-Processing"
      ],
      "id": "2bf2cbae"
    },
    {
      "cell_type": "code",
      "metadata": {
        "execution": {
          "iopub.execute_input": "2021-08-26T13:33:31.700218Z",
          "iopub.status.busy": "2021-08-26T13:33:31.699612Z",
          "iopub.status.idle": "2021-08-26T13:33:31.705140Z",
          "shell.execute_reply": "2021-08-26T13:33:31.705613Z",
          "shell.execute_reply.started": "2021-08-26T13:11:46.421984Z"
        },
        "papermill": {
          "duration": 0.029094,
          "end_time": "2021-08-26T13:33:31.705780",
          "exception": false,
          "start_time": "2021-08-26T13:33:31.676686",
          "status": "completed"
        },
        "tags": [],
        "id": "19172d47"
      },
      "source": [
        "def scoreing_clf(score):\n",
        "    if score<5:\n",
        "        return (\"Low\")\n",
        "    elif score<=5 and score<=7 :\n",
        "        return (\"Middle\")\n",
        "    elif score>=7:\n",
        "        return (\"High\")\n",
        "    \n",
        "nf[\"scoreRange\"] = nf[\"IMDB Score\"].apply(scoreing_clf)"
      ],
      "id": "19172d47",
      "execution_count": null,
      "outputs": []
    },
    {
      "cell_type": "code",
      "metadata": {
        "execution": {
          "iopub.execute_input": "2021-08-26T13:33:31.747551Z",
          "iopub.status.busy": "2021-08-26T13:33:31.746942Z",
          "iopub.status.idle": "2021-08-26T13:33:31.757808Z",
          "shell.execute_reply": "2021-08-26T13:33:31.757306Z",
          "shell.execute_reply.started": "2021-08-26T13:12:07.193314Z"
        },
        "papermill": {
          "duration": 0.032682,
          "end_time": "2021-08-26T13:33:31.757941",
          "exception": false,
          "start_time": "2021-08-26T13:33:31.725259",
          "status": "completed"
        },
        "tags": [],
        "id": "0147b4a5"
      },
      "source": [
        "genre_score = nf[[\"Genre\", \"IMDB Score\", \"scoreRange\"]]\n",
        "genre_count = genre_score.groupby(\"Genre\").count()[\"IMDB Score\"].rename(\"count\").sort_values(ascending=False).reset_index()"
      ],
      "id": "0147b4a5",
      "execution_count": null,
      "outputs": []
    },
    {
      "cell_type": "code",
      "metadata": {
        "execution": {
          "iopub.execute_input": "2021-08-26T13:33:31.800595Z",
          "iopub.status.busy": "2021-08-26T13:33:31.799694Z",
          "iopub.status.idle": "2021-08-26T13:33:31.808371Z",
          "shell.execute_reply": "2021-08-26T13:33:31.808854Z",
          "shell.execute_reply.started": "2021-08-26T13:19:18.726618Z"
        },
        "papermill": {
          "duration": 0.031427,
          "end_time": "2021-08-26T13:33:31.809030",
          "exception": false,
          "start_time": "2021-08-26T13:33:31.777603",
          "status": "completed"
        },
        "tags": [],
        "id": "64e3ea16"
      },
      "source": [
        "genre_score = nf[[\"Genre\", \"IMDB Score\", \"scoreRange\"]]\n",
        "genre_count = genre_score.groupby(\"Genre\").count()[\"IMDB Score\"].rename(\"count\").sort_values(ascending=False).reset_index()"
      ],
      "id": "64e3ea16",
      "execution_count": null,
      "outputs": []
    },
    {
      "cell_type": "code",
      "metadata": {
        "execution": {
          "iopub.execute_input": "2021-08-26T13:33:31.851608Z",
          "iopub.status.busy": "2021-08-26T13:33:31.850702Z",
          "iopub.status.idle": "2021-08-26T13:33:31.859355Z",
          "shell.execute_reply": "2021-08-26T13:33:31.859809Z",
          "shell.execute_reply.started": "2021-08-26T13:19:33.793965Z"
        },
        "papermill": {
          "duration": 0.031557,
          "end_time": "2021-08-26T13:33:31.859974",
          "exception": false,
          "start_time": "2021-08-26T13:33:31.828417",
          "status": "completed"
        },
        "tags": [],
        "id": "e0063a22"
      },
      "source": [
        "language_score = nf[[\"Language\", \"IMDB Score\", \"scoreRange\"]]\n",
        "language_count = language_score.groupby(\"Language\").count()[\"IMDB Score\"].rename(\"count\").sort_values(ascending=False).reset_index()"
      ],
      "id": "e0063a22",
      "execution_count": null,
      "outputs": []
    },
    {
      "cell_type": "code",
      "metadata": {
        "execution": {
          "iopub.execute_input": "2021-08-26T13:33:31.901922Z",
          "iopub.status.busy": "2021-08-26T13:33:31.901051Z",
          "iopub.status.idle": "2021-08-26T13:33:31.905989Z",
          "shell.execute_reply": "2021-08-26T13:33:31.906492Z",
          "shell.execute_reply.started": "2021-08-26T13:21:15.894277Z"
        },
        "papermill": {
          "duration": 0.027462,
          "end_time": "2021-08-26T13:33:31.906673",
          "exception": false,
          "start_time": "2021-08-26T13:33:31.879211",
          "status": "completed"
        },
        "tags": [],
        "id": "9a793b47"
      },
      "source": [
        "runtime_score = nf[[\"Runtime\", \"IMDB Score\", \"scoreRange\"]]"
      ],
      "id": "9a793b47",
      "execution_count": null,
      "outputs": []
    },
    {
      "cell_type": "markdown",
      "metadata": {
        "papermill": {
          "duration": 0.021779,
          "end_time": "2021-08-26T13:33:31.948283",
          "exception": false,
          "start_time": "2021-08-26T13:33:31.926504",
          "status": "completed"
        },
        "tags": [],
        "id": "bfe727e6"
      },
      "source": [
        "Question #1: Is there an Association between Genre and IMDB Score Range?\n",
        "Test: Chi-square test.\n",
        "Null Hypothesis  \n",
        "H\n",
        "0\n",
        " : The IMDB Score Range is independent of Genre.\n",
        "Alternative Hypothesis  \n",
        "H\n",
        "1\n",
        " : The IMDB Score Range is associated with Genre.\n",
        "Use α = 0.05"
      ],
      "id": "bfe727e6"
    },
    {
      "cell_type": "code",
      "metadata": {
        "execution": {
          "iopub.execute_input": "2021-08-26T13:33:31.991390Z",
          "iopub.status.busy": "2021-08-26T13:33:31.990820Z",
          "iopub.status.idle": "2021-08-26T13:33:32.026204Z",
          "shell.execute_reply": "2021-08-26T13:33:32.025678Z",
          "shell.execute_reply.started": "2021-08-26T13:22:47.954192Z"
        },
        "papermill": {
          "duration": 0.057815,
          "end_time": "2021-08-26T13:33:32.026339",
          "exception": false,
          "start_time": "2021-08-26T13:33:31.968524",
          "status": "completed"
        },
        "tags": [],
        "id": "9ebf1222",
        "outputId": "9e982a18-ca02-44af-abcd-5be8b979c219"
      },
      "source": [
        "cont_table  = pd.crosstab(genre_score.Genre, genre_score.scoreRange)\n",
        "cont_table"
      ],
      "id": "9ebf1222",
      "execution_count": null,
      "outputs": [
        {
          "data": {
            "text/html": [
              "<div>\n",
              "<style scoped>\n",
              "    .dataframe tbody tr th:only-of-type {\n",
              "        vertical-align: middle;\n",
              "    }\n",
              "\n",
              "    .dataframe tbody tr th {\n",
              "        vertical-align: top;\n",
              "    }\n",
              "\n",
              "    .dataframe thead th {\n",
              "        text-align: right;\n",
              "    }\n",
              "</style>\n",
              "<table border=\"1\" class=\"dataframe\">\n",
              "  <thead>\n",
              "    <tr style=\"text-align: right;\">\n",
              "      <th>scoreRange</th>\n",
              "      <th>High</th>\n",
              "      <th>Low</th>\n",
              "      <th>Middle</th>\n",
              "    </tr>\n",
              "    <tr>\n",
              "      <th>Genre</th>\n",
              "      <th></th>\n",
              "      <th></th>\n",
              "      <th></th>\n",
              "    </tr>\n",
              "  </thead>\n",
              "  <tbody>\n",
              "    <tr>\n",
              "      <th>Action</th>\n",
              "      <td>0</td>\n",
              "      <td>3</td>\n",
              "      <td>0</td>\n",
              "    </tr>\n",
              "    <tr>\n",
              "      <th>Action comedy</th>\n",
              "      <td>0</td>\n",
              "      <td>1</td>\n",
              "      <td>0</td>\n",
              "    </tr>\n",
              "    <tr>\n",
              "      <th>Action-adventure</th>\n",
              "      <td>1</td>\n",
              "      <td>0</td>\n",
              "      <td>0</td>\n",
              "    </tr>\n",
              "    <tr>\n",
              "      <th>Action-thriller</th>\n",
              "      <td>1</td>\n",
              "      <td>0</td>\n",
              "      <td>1</td>\n",
              "    </tr>\n",
              "    <tr>\n",
              "      <th>Aftershow / Interview</th>\n",
              "      <td>4</td>\n",
              "      <td>0</td>\n",
              "      <td>0</td>\n",
              "    </tr>\n",
              "    <tr>\n",
              "      <th>Animation</th>\n",
              "      <td>3</td>\n",
              "      <td>0</td>\n",
              "      <td>0</td>\n",
              "    </tr>\n",
              "    <tr>\n",
              "      <th>Animation / Comedy</th>\n",
              "      <td>1</td>\n",
              "      <td>0</td>\n",
              "      <td>0</td>\n",
              "    </tr>\n",
              "    <tr>\n",
              "      <th>Animation / Science Fiction</th>\n",
              "      <td>1</td>\n",
              "      <td>0</td>\n",
              "      <td>0</td>\n",
              "    </tr>\n",
              "    <tr>\n",
              "      <th>Animation / Short</th>\n",
              "      <td>2</td>\n",
              "      <td>0</td>\n",
              "      <td>0</td>\n",
              "    </tr>\n",
              "    <tr>\n",
              "      <th>Animation/Christmas/Comedy/Adventure</th>\n",
              "      <td>1</td>\n",
              "      <td>0</td>\n",
              "      <td>0</td>\n",
              "    </tr>\n",
              "    <tr>\n",
              "      <th>Animation/Superhero</th>\n",
              "      <td>0</td>\n",
              "      <td>1</td>\n",
              "      <td>0</td>\n",
              "    </tr>\n",
              "    <tr>\n",
              "      <th>Anime / Short</th>\n",
              "      <td>0</td>\n",
              "      <td>1</td>\n",
              "      <td>0</td>\n",
              "    </tr>\n",
              "    <tr>\n",
              "      <th>Anthology/Dark comedy</th>\n",
              "      <td>1</td>\n",
              "      <td>0</td>\n",
              "      <td>0</td>\n",
              "    </tr>\n",
              "    <tr>\n",
              "      <th>Biopic</th>\n",
              "      <td>2</td>\n",
              "      <td>0</td>\n",
              "      <td>0</td>\n",
              "    </tr>\n",
              "    <tr>\n",
              "      <th>Christmas/Fantasy/Adventure/Comedy</th>\n",
              "      <td>1</td>\n",
              "      <td>0</td>\n",
              "      <td>0</td>\n",
              "    </tr>\n",
              "    <tr>\n",
              "      <th>Comedy</th>\n",
              "      <td>2</td>\n",
              "      <td>11</td>\n",
              "      <td>1</td>\n",
              "    </tr>\n",
              "    <tr>\n",
              "      <th>Comedy-drama</th>\n",
              "      <td>1</td>\n",
              "      <td>0</td>\n",
              "      <td>0</td>\n",
              "    </tr>\n",
              "    <tr>\n",
              "      <th>Coming-of-age comedy-drama</th>\n",
              "      <td>1</td>\n",
              "      <td>0</td>\n",
              "      <td>0</td>\n",
              "    </tr>\n",
              "    <tr>\n",
              "      <th>Concert Film</th>\n",
              "      <td>5</td>\n",
              "      <td>0</td>\n",
              "      <td>0</td>\n",
              "    </tr>\n",
              "    <tr>\n",
              "      <th>Crime drama</th>\n",
              "      <td>5</td>\n",
              "      <td>0</td>\n",
              "      <td>0</td>\n",
              "    </tr>\n",
              "    <tr>\n",
              "      <th>Documentary</th>\n",
              "      <td>89</td>\n",
              "      <td>6</td>\n",
              "      <td>0</td>\n",
              "    </tr>\n",
              "    <tr>\n",
              "      <th>Drama</th>\n",
              "      <td>15</td>\n",
              "      <td>4</td>\n",
              "      <td>1</td>\n",
              "    </tr>\n",
              "    <tr>\n",
              "      <th>Drama-Comedy</th>\n",
              "      <td>1</td>\n",
              "      <td>0</td>\n",
              "      <td>0</td>\n",
              "    </tr>\n",
              "    <tr>\n",
              "      <th>Family film</th>\n",
              "      <td>0</td>\n",
              "      <td>1</td>\n",
              "      <td>0</td>\n",
              "    </tr>\n",
              "    <tr>\n",
              "      <th>Heist</th>\n",
              "      <td>0</td>\n",
              "      <td>1</td>\n",
              "      <td>0</td>\n",
              "    </tr>\n",
              "    <tr>\n",
              "      <th>Heist film/Thriller</th>\n",
              "      <td>0</td>\n",
              "      <td>1</td>\n",
              "      <td>0</td>\n",
              "    </tr>\n",
              "    <tr>\n",
              "      <th>Historical drama</th>\n",
              "      <td>1</td>\n",
              "      <td>0</td>\n",
              "      <td>0</td>\n",
              "    </tr>\n",
              "    <tr>\n",
              "      <th>Horror</th>\n",
              "      <td>0</td>\n",
              "      <td>3</td>\n",
              "      <td>0</td>\n",
              "    </tr>\n",
              "    <tr>\n",
              "      <th>Horror anthology</th>\n",
              "      <td>0</td>\n",
              "      <td>1</td>\n",
              "      <td>0</td>\n",
              "    </tr>\n",
              "    <tr>\n",
              "      <th>Horror thriller</th>\n",
              "      <td>0</td>\n",
              "      <td>2</td>\n",
              "      <td>0</td>\n",
              "    </tr>\n",
              "    <tr>\n",
              "      <th>Making-of</th>\n",
              "      <td>2</td>\n",
              "      <td>0</td>\n",
              "      <td>0</td>\n",
              "    </tr>\n",
              "    <tr>\n",
              "      <th>Mentalism special</th>\n",
              "      <td>1</td>\n",
              "      <td>0</td>\n",
              "      <td>0</td>\n",
              "    </tr>\n",
              "    <tr>\n",
              "      <th>Musical / Short</th>\n",
              "      <td>1</td>\n",
              "      <td>0</td>\n",
              "      <td>0</td>\n",
              "    </tr>\n",
              "    <tr>\n",
              "      <th>Musical/Western/Fantasy</th>\n",
              "      <td>0</td>\n",
              "      <td>1</td>\n",
              "      <td>0</td>\n",
              "    </tr>\n",
              "    <tr>\n",
              "      <th>Mystery</th>\n",
              "      <td>0</td>\n",
              "      <td>1</td>\n",
              "      <td>0</td>\n",
              "    </tr>\n",
              "    <tr>\n",
              "      <th>One-man show</th>\n",
              "      <td>2</td>\n",
              "      <td>0</td>\n",
              "      <td>0</td>\n",
              "    </tr>\n",
              "    <tr>\n",
              "      <th>Political thriller</th>\n",
              "      <td>0</td>\n",
              "      <td>1</td>\n",
              "      <td>0</td>\n",
              "    </tr>\n",
              "    <tr>\n",
              "      <th>Psychological thriller</th>\n",
              "      <td>1</td>\n",
              "      <td>0</td>\n",
              "      <td>0</td>\n",
              "    </tr>\n",
              "    <tr>\n",
              "      <th>Romance drama</th>\n",
              "      <td>0</td>\n",
              "      <td>1</td>\n",
              "      <td>0</td>\n",
              "    </tr>\n",
              "    <tr>\n",
              "      <th>Romantic comedy</th>\n",
              "      <td>2</td>\n",
              "      <td>2</td>\n",
              "      <td>1</td>\n",
              "    </tr>\n",
              "    <tr>\n",
              "      <th>Science fiction/Drama</th>\n",
              "      <td>0</td>\n",
              "      <td>2</td>\n",
              "      <td>0</td>\n",
              "    </tr>\n",
              "    <tr>\n",
              "      <th>Superhero</th>\n",
              "      <td>0</td>\n",
              "      <td>1</td>\n",
              "      <td>0</td>\n",
              "    </tr>\n",
              "    <tr>\n",
              "      <th>Superhero-Comedy</th>\n",
              "      <td>0</td>\n",
              "      <td>1</td>\n",
              "      <td>0</td>\n",
              "    </tr>\n",
              "    <tr>\n",
              "      <th>Thriller</th>\n",
              "      <td>1</td>\n",
              "      <td>7</td>\n",
              "      <td>1</td>\n",
              "    </tr>\n",
              "    <tr>\n",
              "      <th>Variety show</th>\n",
              "      <td>1</td>\n",
              "      <td>0</td>\n",
              "      <td>0</td>\n",
              "    </tr>\n",
              "    <tr>\n",
              "      <th>War</th>\n",
              "      <td>1</td>\n",
              "      <td>0</td>\n",
              "      <td>0</td>\n",
              "    </tr>\n",
              "    <tr>\n",
              "      <th>War drama</th>\n",
              "      <td>1</td>\n",
              "      <td>0</td>\n",
              "      <td>0</td>\n",
              "    </tr>\n",
              "    <tr>\n",
              "      <th>Western</th>\n",
              "      <td>1</td>\n",
              "      <td>1</td>\n",
              "      <td>0</td>\n",
              "    </tr>\n",
              "  </tbody>\n",
              "</table>\n",
              "</div>"
            ],
            "text/plain": [
              "scoreRange                            High  Low  Middle\n",
              "Genre                                                  \n",
              "Action                                   0    3       0\n",
              "Action comedy                            0    1       0\n",
              "Action-adventure                         1    0       0\n",
              "Action-thriller                          1    0       1\n",
              "Aftershow / Interview                    4    0       0\n",
              "Animation                                3    0       0\n",
              "Animation / Comedy                       1    0       0\n",
              "Animation / Science Fiction              1    0       0\n",
              "Animation / Short                        2    0       0\n",
              "Animation/Christmas/Comedy/Adventure     1    0       0\n",
              "Animation/Superhero                      0    1       0\n",
              "Anime / Short                            0    1       0\n",
              "Anthology/Dark comedy                    1    0       0\n",
              "Biopic                                   2    0       0\n",
              "Christmas/Fantasy/Adventure/Comedy       1    0       0\n",
              "Comedy                                   2   11       1\n",
              "Comedy-drama                             1    0       0\n",
              "Coming-of-age comedy-drama               1    0       0\n",
              "Concert Film                             5    0       0\n",
              "Crime drama                              5    0       0\n",
              "Documentary                             89    6       0\n",
              "Drama                                   15    4       1\n",
              "Drama-Comedy                             1    0       0\n",
              "Family film                              0    1       0\n",
              "Heist                                    0    1       0\n",
              "Heist film/Thriller                      0    1       0\n",
              "Historical drama                         1    0       0\n",
              "Horror                                   0    3       0\n",
              "Horror anthology                         0    1       0\n",
              "Horror thriller                          0    2       0\n",
              "Making-of                                2    0       0\n",
              "Mentalism special                        1    0       0\n",
              "Musical / Short                          1    0       0\n",
              "Musical/Western/Fantasy                  0    1       0\n",
              "Mystery                                  0    1       0\n",
              "One-man show                             2    0       0\n",
              "Political thriller                       0    1       0\n",
              "Psychological thriller                   1    0       0\n",
              "Romance drama                            0    1       0\n",
              "Romantic comedy                          2    2       1\n",
              "Science fiction/Drama                    0    2       0\n",
              "Superhero                                0    1       0\n",
              "Superhero-Comedy                         0    1       0\n",
              "Thriller                                 1    7       1\n",
              "Variety show                             1    0       0\n",
              "War                                      1    0       0\n",
              "War drama                                1    0       0\n",
              "Western                                  1    1       0"
            ]
          },
          "execution_count": 15,
          "metadata": {},
          "output_type": "execute_result"
        }
      ]
    },
    {
      "cell_type": "code",
      "metadata": {
        "execution": {
          "iopub.execute_input": "2021-08-26T13:33:32.072925Z",
          "iopub.status.busy": "2021-08-26T13:33:32.072323Z",
          "iopub.status.idle": "2021-08-26T13:33:32.074619Z",
          "shell.execute_reply": "2021-08-26T13:33:32.075084Z",
          "shell.execute_reply.started": "2021-08-26T13:24:47.804348Z"
        },
        "papermill": {
          "duration": 0.028484,
          "end_time": "2021-08-26T13:33:32.075251",
          "exception": false,
          "start_time": "2021-08-26T13:33:32.046767",
          "status": "completed"
        },
        "tags": [],
        "id": "7a5836ab",
        "outputId": "3f779921-3a0a-45d3-e280-7319f8c37ce3"
      },
      "source": [
        "X2, p_value, degree_freedom, expected_values = scipy.stats.chi2_contingency(cont_table, correction = True)\n",
        "print(\"X2: {0}, P-Value: {1}\".format(X2,p_value))"
      ],
      "id": "7a5836ab",
      "execution_count": null,
      "outputs": [
        {
          "name": "stdout",
          "output_type": "stream",
          "text": [
            "X2: 174.27856341837375, P-Value: 9.560209781102008e-07\n"
          ]
        }
      ]
    },
    {
      "cell_type": "markdown",
      "metadata": {
        "papermill": {
          "duration": 0.020876,
          "end_time": "2021-08-26T13:33:32.116806",
          "exception": false,
          "start_time": "2021-08-26T13:33:32.095930",
          "status": "completed"
        },
        "tags": [],
        "id": "14d0fab1"
      },
      "source": [
        "Conclusion: Since the p-value is less than 0.05, we will reject the null hypothesis as there is significant evidence that IMDB Score Range is associated with genre."
      ],
      "id": "14d0fab1"
    },
    {
      "cell_type": "markdown",
      "metadata": {
        "papermill": {
          "duration": 0.021009,
          "end_time": "2021-08-26T13:33:32.158614",
          "exception": false,
          "start_time": "2021-08-26T13:33:32.137605",
          "status": "completed"
        },
        "tags": [],
        "id": "5013b3a4"
      },
      "source": [
        "Question #2: Does IMDB Score for Films Differ by Genre?\n",
        "Test: ANOVA\n",
        "Test Statistic: Mean IMDB score of Genres containing more than 20 films.\n",
        "Null Hypothesis  \n",
        "H\n",
        "0\n",
        " : The Genres' mean scores are equal.\n",
        "Alternative Hypothesis  \n",
        "H\n",
        "1\n",
        " : At least one of the Genres' mean scores differ.\n",
        "Use α = 0.05"
      ],
      "id": "5013b3a4"
    },
    {
      "cell_type": "code",
      "metadata": {
        "execution": {
          "iopub.execute_input": "2021-08-26T13:33:32.203402Z",
          "iopub.status.busy": "2021-08-26T13:33:32.202810Z",
          "iopub.status.idle": "2021-08-26T13:33:32.218423Z",
          "shell.execute_reply": "2021-08-26T13:33:32.219259Z",
          "shell.execute_reply.started": "2021-08-26T13:28:40.534847Z"
        },
        "papermill": {
          "duration": 0.040021,
          "end_time": "2021-08-26T13:33:32.219594",
          "exception": false,
          "start_time": "2021-08-26T13:33:32.179573",
          "status": "completed"
        },
        "tags": [],
        "id": "000166f4",
        "outputId": "1fea740f-5bb2-462a-d6be-4de6aff55ada"
      },
      "source": [
        "genre_count.query(\"count>20\")"
      ],
      "id": "000166f4",
      "execution_count": null,
      "outputs": [
        {
          "data": {
            "text/html": [
              "<div>\n",
              "<style scoped>\n",
              "    .dataframe tbody tr th:only-of-type {\n",
              "        vertical-align: middle;\n",
              "    }\n",
              "\n",
              "    .dataframe tbody tr th {\n",
              "        vertical-align: top;\n",
              "    }\n",
              "\n",
              "    .dataframe thead th {\n",
              "        text-align: right;\n",
              "    }\n",
              "</style>\n",
              "<table border=\"1\" class=\"dataframe\">\n",
              "  <thead>\n",
              "    <tr style=\"text-align: right;\">\n",
              "      <th></th>\n",
              "      <th>Genre</th>\n",
              "      <th>count</th>\n",
              "    </tr>\n",
              "  </thead>\n",
              "  <tbody>\n",
              "    <tr>\n",
              "      <th>0</th>\n",
              "      <td>Documentary</td>\n",
              "      <td>159</td>\n",
              "    </tr>\n",
              "    <tr>\n",
              "      <th>1</th>\n",
              "      <td>Drama</td>\n",
              "      <td>77</td>\n",
              "    </tr>\n",
              "    <tr>\n",
              "      <th>2</th>\n",
              "      <td>Comedy</td>\n",
              "      <td>49</td>\n",
              "    </tr>\n",
              "    <tr>\n",
              "      <th>3</th>\n",
              "      <td>Romantic comedy</td>\n",
              "      <td>39</td>\n",
              "    </tr>\n",
              "    <tr>\n",
              "      <th>4</th>\n",
              "      <td>Thriller</td>\n",
              "      <td>33</td>\n",
              "    </tr>\n",
              "  </tbody>\n",
              "</table>\n",
              "</div>"
            ],
            "text/plain": [
              "             Genre  count\n",
              "0      Documentary    159\n",
              "1            Drama     77\n",
              "2           Comedy     49\n",
              "3  Romantic comedy     39\n",
              "4         Thriller     33"
            ]
          },
          "execution_count": 17,
          "metadata": {},
          "output_type": "execute_result"
        }
      ]
    },
    {
      "cell_type": "code",
      "metadata": {
        "execution": {
          "iopub.execute_input": "2021-08-26T13:33:32.286213Z",
          "iopub.status.busy": "2021-08-26T13:33:32.285502Z",
          "iopub.status.idle": "2021-08-26T13:33:32.310348Z",
          "shell.execute_reply": "2021-08-26T13:33:32.311058Z",
          "shell.execute_reply.started": "2021-08-26T13:29:06.849219Z"
        },
        "papermill": {
          "duration": 0.061274,
          "end_time": "2021-08-26T13:33:32.311346",
          "exception": false,
          "start_time": "2021-08-26T13:33:32.250072",
          "status": "completed"
        },
        "tags": [],
        "id": "d0d141a1",
        "outputId": "e6076fa6-b49f-4382-b347-d5b63711a686"
      },
      "source": [
        "# Test for equality of variance\n",
        "scipy.stats.levene(genre_score.query(\"Genre=='Documentary'\")[\"IMDB Score\"],\n",
        "                   genre_score.query(\"Genre=='Drama'\")[\"IMDB Score\"],\n",
        "                   genre_score.query(\"Genre=='Comedy'\")[\"IMDB Score\"],\n",
        "                   genre_score.query(\"Genre=='Romantic comedy'\")[\"IMDB Score\"],\n",
        "                   genre_score.query(\"Genre=='Thriller'\")[\"IMDB Score\"],\n",
        "                   center='mean')"
      ],
      "id": "d0d141a1",
      "execution_count": null,
      "outputs": [
        {
          "data": {
            "text/plain": [
              "LeveneResult(statistic=1.0366812507951546, pvalue=0.3881518679950263)"
            ]
          },
          "execution_count": 18,
          "metadata": {},
          "output_type": "execute_result"
        }
      ]
    },
    {
      "cell_type": "markdown",
      "metadata": {
        "papermill": {
          "duration": 0.021896,
          "end_time": "2021-08-26T13:33:32.359284",
          "exception": false,
          "start_time": "2021-08-26T13:33:32.337388",
          "status": "completed"
        },
        "tags": [],
        "id": "d755adbb"
      },
      "source": [
        "Since p-value in LeveneResult is greater than the 0.05, the variance are equal."
      ],
      "id": "d755adbb"
    },
    {
      "cell_type": "code",
      "metadata": {
        "execution": {
          "iopub.execute_input": "2021-08-26T13:33:32.405548Z",
          "iopub.status.busy": "2021-08-26T13:33:32.404959Z",
          "iopub.status.idle": "2021-08-26T13:33:32.423765Z",
          "shell.execute_reply": "2021-08-26T13:33:32.423268Z",
          "shell.execute_reply.started": "2021-08-26T13:30:47.785302Z"
        },
        "papermill": {
          "duration": 0.042708,
          "end_time": "2021-08-26T13:33:32.423898",
          "exception": false,
          "start_time": "2021-08-26T13:33:32.381190",
          "status": "completed"
        },
        "tags": [],
        "id": "16497d6b",
        "outputId": "0b7d2646-acee-414b-bcae-9ecf231f09af"
      },
      "source": [
        "# Run a one-way ANOVA\n",
        "f_statistic, p_value = scipy.stats.f_oneway(genre_score.query(\"Genre=='Documentary'\")[\"IMDB Score\"],\n",
        "                                            genre_score.query(\"Genre=='Drama'\")[\"IMDB Score\"],\n",
        "                                            genre_score.query(\"Genre=='Comedy'\")[\"IMDB Score\"],\n",
        "                                            genre_score.query(\"Genre=='Romantic comedy'\")[\"IMDB Score\"],\n",
        "                                            genre_score.query(\"Genre=='Thriller'\")[\"IMDB Score\"])\n",
        "print(\"F_Statistic: {0}, P-Value: {1}\".format(f_statistic,p_value))"
      ],
      "id": "16497d6b",
      "execution_count": null,
      "outputs": [
        {
          "name": "stdout",
          "output_type": "stream",
          "text": [
            "F_Statistic: 46.2114746272156, P-Value: 3.3694045569739407e-31\n"
          ]
        }
      ]
    },
    {
      "cell_type": "markdown",
      "metadata": {
        "papermill": {
          "duration": 0.021095,
          "end_time": "2021-08-26T13:33:32.466734",
          "exception": false,
          "start_time": "2021-08-26T13:33:32.445639",
          "status": "completed"
        },
        "tags": [],
        "id": "68fd5e77"
      },
      "source": [
        "Question #5: Is IMDB Score for Films correlated with Runtime?\n",
        "Test: Pearson correlation test.\n",
        "Null Hypothesis  \n",
        "H\n",
        "0\n",
        " : IMDB score for films is not correlated with runtime.\n",
        "Alternative Hypothesis  \n",
        "H\n",
        "1\n",
        " : IMDB score for films is correlated with runtime.\n",
        "Use α = 0.05"
      ],
      "id": "68fd5e77"
    },
    {
      "cell_type": "code",
      "metadata": {
        "execution": {
          "iopub.execute_input": "2021-08-26T13:33:32.526898Z",
          "iopub.status.busy": "2021-08-26T13:33:32.526282Z",
          "iopub.status.idle": "2021-08-26T13:33:32.682084Z",
          "shell.execute_reply": "2021-08-26T13:33:32.681604Z",
          "shell.execute_reply.started": "2021-08-26T13:31:21.705121Z"
        },
        "papermill": {
          "duration": 0.193909,
          "end_time": "2021-08-26T13:33:32.682226",
          "exception": false,
          "start_time": "2021-08-26T13:33:32.488317",
          "status": "completed"
        },
        "tags": [],
        "id": "27b56de6",
        "outputId": "dc587995-c9f5-4a73-eed2-b215b67ecba1"
      },
      "source": [
        "ax = sns.scatterplot(x=\"Runtime\", y=\"IMDB Score\", data=runtime_score)"
      ],
      "id": "27b56de6",
      "execution_count": null,
      "outputs": [
        {
          "data": {
            "image/png": "[encoded data removed]",
            "text/plain": [
              "<Figure size 432x288 with 1 Axes>"
            ]
          },
          "metadata": {
            "needs_background": "light"
          },
          "output_type": "display_data"
        }
      ]
    },
    {
      "cell_type": "code",
      "metadata": {
        "execution": {
          "iopub.execute_input": "2021-08-26T13:33:32.733719Z",
          "iopub.status.busy": "2021-08-26T13:33:32.732726Z",
          "iopub.status.idle": "2021-08-26T13:33:32.736949Z",
          "shell.execute_reply": "2021-08-26T13:33:32.737388Z",
          "shell.execute_reply.started": "2021-08-26T13:31:36.044505Z"
        },
        "papermill": {
          "duration": 0.03295,
          "end_time": "2021-08-26T13:33:32.737558",
          "exception": false,
          "start_time": "2021-08-26T13:33:32.704608",
          "status": "completed"
        },
        "tags": [],
        "id": "fd80bf94",
        "outputId": "c3b22c06-42f2-45a0-ef84-aa4d9f710bf4"
      },
      "source": [
        "r, p_value = scipy.stats.pearsonr(runtime_score['Runtime'], runtime_score['IMDB Score']) \n",
        "print(\"Pearson’s correlation coefficient: {0}, P-Value: {1}\".format(r,p_value))"
      ],
      "id": "fd80bf94",
      "execution_count": null,
      "outputs": [
        {
          "name": "stdout",
          "output_type": "stream",
          "text": [
            "Pearson’s correlation coefficient: -0.0408962914207887, P-Value: 0.32383932911461244\n"
          ]
        }
      ]
    },
    {
      "cell_type": "markdown",
      "metadata": {
        "papermill": {
          "duration": 0.022067,
          "end_time": "2021-08-26T13:33:32.782039",
          "exception": false,
          "start_time": "2021-08-26T13:33:32.759972",
          "status": "completed"
        },
        "tags": [],
        "id": "42786be7"
      },
      "source": [
        "Conclusion: Since the two-tailed p-value is greater than 0.05, we cannot reject the null hypothesis and conclude that there does not exist a relationship between runtime and teaching IMDB score."
      ],
      "id": "42786be7"
    }
  ]
}